{
 "cells": [
  {
   "cell_type": "code",
   "execution_count": 24,
   "metadata": {},
   "outputs": [
    {
     "name": "stdout",
     "output_type": "stream",
     "text": [
      "1\n",
      "my number is 1\n",
      "3\n",
      "my number is 3\n",
      "5\n",
      "my number is 5\n",
      "7\n",
      "my number is 7\n",
      "9\n",
      "my number is 9\n",
      "11\n",
      "my number is 11\n",
      "13\n",
      "my number is 13\n",
      "15\n",
      "my number is 15\n",
      "17\n",
      "my number is 17\n",
      "19\n",
      "my number is 19\n"
     ]
    }
   ],
   "source": [
    "for i in range (1,20,2):\n",
    "    print(i)\n",
    "    print(\"my number is %d\" %(i))"
   ]
  },
  {
   "cell_type": "code",
   "execution_count": 21,
   "metadata": {},
   "outputs": [
    {
     "data": {
      "text/plain": [
       "[1, 3, 5, 7, 9, 11, 13, 15, 17, 19]"
      ]
     },
     "execution_count": 21,
     "metadata": {},
     "output_type": "execute_result"
    }
   ],
   "source": [
    "a=[]\n",
    "#a.append(2)\n",
    "#a.append(3)\n",
    "for i in range(1,20,2):\n",
    "    a.append(i)\n",
    "a"
   ]
  },
  {
   "cell_type": "code",
   "execution_count": 8,
   "metadata": {},
   "outputs": [],
   "source": [
    "a=list()"
   ]
  },
  {
   "cell_type": "code",
   "execution_count": 23,
   "metadata": {},
   "outputs": [
    {
     "data": {
      "text/plain": [
       "10"
      ]
     },
     "execution_count": 23,
     "metadata": {},
     "output_type": "execute_result"
    }
   ],
   "source": [
    "len(a)"
   ]
  },
  {
   "cell_type": "code",
   "execution_count": 30,
   "metadata": {},
   "outputs": [
    {
     "name": "stdout",
     "output_type": "stream",
     "text": [
      "My 1 item is 1\n",
      "My 2 item is 3\n",
      "My 3 item is 5\n",
      "My 4 item is 7\n",
      "My 5 item is 9\n",
      "My 6 item is 11\n",
      "My 7 item is 13\n",
      "My 8 item is 15\n",
      "My 9 item is 17\n",
      "My 10 item is 19\n"
     ]
    }
   ],
   "source": [
    "for idx,item in enumerate(a):\n",
    "   # print(idx,item)\n",
    "    print(\"My\",idx+1,\"item\",\"is\",item)"
   ]
  },
  {
   "cell_type": "code",
   "execution_count": 34,
   "metadata": {},
   "outputs": [
    {
     "data": {
      "text/plain": [
       "[3, 5, 7, 9, 11, 13, 15, 17]"
      ]
     },
     "execution_count": 34,
     "metadata": {},
     "output_type": "execute_result"
    }
   ],
   "source": [
    "a[:3]\n",
    "a[1:]\n",
    "a[1:-1]"
   ]
  },
  {
   "cell_type": "code",
   "execution_count": 38,
   "metadata": {},
   "outputs": [
    {
     "data": {
      "text/plain": [
       "[19, 17, 15, 13, 11, 9, 7, 5, 3, 1]"
      ]
     },
     "execution_count": 38,
     "metadata": {},
     "output_type": "execute_result"
    }
   ],
   "source": [
    "a.sort(reverse=True)\n",
    "a"
   ]
  },
  {
   "cell_type": "code",
   "execution_count": 51,
   "metadata": {},
   "outputs": [
    {
     "name": "stdout",
     "output_type": "stream",
     "text": [
      "528 ns ± 26.8 ns per loop (mean ± std. dev. of 7 runs, 1000000 loops each)\n"
     ]
    }
   ],
   "source": [
    "%timeit sum(a)"
   ]
  },
  {
   "cell_type": "code",
   "execution_count": 44,
   "metadata": {},
   "outputs": [],
   "source": [
    "import numpy as np\n"
   ]
  },
  {
   "cell_type": "code",
   "execution_count": 45,
   "metadata": {},
   "outputs": [],
   "source": [
    "b=np.array(a)"
   ]
  },
  {
   "cell_type": "code",
   "execution_count": 50,
   "metadata": {},
   "outputs": [
    {
     "name": "stdout",
     "output_type": "stream",
     "text": [
      "7 µs ± 358 ns per loop (mean ± std. dev. of 7 runs, 100000 loops each)\n"
     ]
    }
   ],
   "source": [
    "%timeit np.sum(b)"
   ]
  },
  {
   "attachments": {},
   "cell_type": "markdown",
   "metadata": {},
   "source": [
    "### More question on list (before numpy lesson)\n",
    "\n",
    "1) Create a list with mixed datatype: integer, string, list (list of list is also a data type)\n",
    "\n",
    "2) Add items to list, remove last item from list\n",
    "\n",
    "3) create two lists and do these operations: append, insert, extend,remove,pop\n",
    "\n",
    "4) Create a dictonary datatype and add items into dictonary (what is the difference between list and dictonary)\n",
    "\n",
    "5) Create tuple datatype\n",
    "\n",
    "### Practice function, for loop, if (conditional) statement\n",
    "\n",
    "1) Write a Python program to find those numbers which are divisible by 7 and multiple of 5, between 1500 and 2700 (both included), convert it into a reusable function, hints: need for loop and if together as nested\n",
    "\n",
    "2) Write a Python program to count the number of even and odd numbers from a series of numbers\n"
   ]
  },
  {
   "cell_type": "code",
   "execution_count": null,
   "metadata": {},
   "outputs": [],
   "source": []
  }
 ],
 "metadata": {
  "kernelspec": {
   "display_name": "Python 3",
   "language": "python",
   "name": "python3"
  },
  "language_info": {
   "codemirror_mode": {
    "name": "ipython",
    "version": 3
   },
   "file_extension": ".py",
   "mimetype": "text/x-python",
   "name": "python",
   "nbconvert_exporter": "python",
   "pygments_lexer": "ipython3",
   "version": "3.6.5"
  },
  "latex_envs": {
   "LaTeX_envs_menu_present": true,
   "autoclose": false,
   "autocomplete": true,
   "bibliofile": "biblio.bib",
   "cite_by": "apalike",
   "current_citInitial": 1,
   "eqLabelWithNumbers": true,
   "eqNumInitial": 1,
   "hotkeys": {
    "equation": "Ctrl-E",
    "itemize": "Ctrl-I"
   },
   "labels_anchors": false,
   "latex_user_defs": false,
   "report_style_numbering": false,
   "user_envs_cfg": false
  }
 },
 "nbformat": 4,
 "nbformat_minor": 2
}
